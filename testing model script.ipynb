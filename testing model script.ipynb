{
 "cells": [
  {
   "cell_type": "code",
   "execution_count": 20,
   "metadata": {},
   "outputs": [
    {
     "name": "stdout",
     "output_type": "stream",
     "text": [
      "Input Text: walid is retarded\n",
      "Predicted Class: toxic (Probability: 0.9999)\n"
     ]
    }
   ],
   "source": [
    "import torch\n",
    "from transformers import AutoModelForSequenceClassification, AutoTokenizer\n",
    "\n",
    "# Load the model and tokenizer\n",
    "model_path = './my_model_directory'  # Replace with your model's path\n",
    "model = AutoModelForSequenceClassification.from_pretrained(model_path)\n",
    "tokenizer = AutoTokenizer.from_pretrained(model_path)\n",
    "\n",
    "# Prepare the input text\n",
    "input_text = \"walid is retarded\"  # Replace with the text you want to classify\n",
    "inputs = tokenizer(input_text, padding=True, truncation=True, max_length=512, return_tensors=\"pt\")\n",
    "\n",
    "\n",
    "# Make a prediction\n",
    "with torch.no_grad():\n",
    "    outputs = model(**inputs)\n",
    "\n",
    "# Apply softmax to calculate probabilities\n",
    "probabilities = torch.nn.functional.softmax(outputs.logits, dim=1)\n",
    "\n",
    "# Get the predicted class\n",
    "predicted_class_index = torch.argmax(probabilities, dim=1).item()\n",
    "\n",
    "\n",
    "# Define class names based on your model's training\n",
    "class_names = [\"not toxic\", \"toxic\"]  # Make sure this matches your model's training labels\n",
    "predicted_class = class_names[predicted_class_index]\n",
    "\n",
    "\n",
    "# Print the result\n",
    "print(f\"Input Text: {input_text}\")\n",
    "print(f\"Predicted Class: {predicted_class} (Probability: {probabilities[0][predicted_class_index]:.4f})\")\n",
    "\n",
    "\n"
   ]
  }
 ],
 "metadata": {
  "kernelspec": {
   "display_name": "Python 3",
   "language": "python",
   "name": "python3"
  },
  "language_info": {
   "codemirror_mode": {
    "name": "ipython",
    "version": 3
   },
   "file_extension": ".py",
   "mimetype": "text/x-python",
   "name": "python",
   "nbconvert_exporter": "python",
   "pygments_lexer": "ipython3",
   "version": "3.11.7"
  }
 },
 "nbformat": 4,
 "nbformat_minor": 2
}
