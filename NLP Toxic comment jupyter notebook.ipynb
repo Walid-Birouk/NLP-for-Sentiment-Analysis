{
 "cells": [
  {
   "cell_type": "markdown",
   "metadata": {},
   "source": [
    "# Introduction\n",
    "\n",
    "## Predicting Toxicity in Online Comments using NLP\n",
    "\n",
    "### Background\n",
    "\n",
    "In the digital age, online platforms have become bustling hubs for communication and interaction. However, this rise in digital communication has also led to an increase in the presence of toxic behavior in online discussions. Toxic comments, which can include hate speech, threats, or harassment, not only disrupt healthy conversations but also pose a significant challenge for maintaining positive online community environments.\n",
    "\n",
    "Natural Language Processing (NLP), a branch of artificial intelligence, offers powerful tools to automatically analyze and interpret human language. By leveraging NLP, we can develop models capable of detecting toxic behavior in text, thus aiding in the moderation of online platforms.\n",
    "\n",
    "### Objective\n",
    "\n",
    "The primary objective of this project is to develop and train an NLP model that can accurately predict whether a comment is toxic. This involves:\n",
    "1. Understanding the nature and nuances of online conversations.\n",
    "2. Preprocessing and preparing textual data for analysis.\n",
    "3. Training a machine learning model to classify comments based on their toxicity levels.\n",
    "4. Evaluating the model's performance and its practical applicability in real-world scenarios.\n",
    "\n",
    "---\n",
    "\n",
    "# Data Collection and Preprocessing\n",
    "\n",
    "## Importing Libraries and Loading Data\n",
    "\n",
    "The first step in our project is to import the necessary libraries and load our datasets. We are using `pandas`, a powerful Python library for data manipulation and analysis.\n"
   ]
  },
  {
   "cell_type": "code",
   "execution_count": null,
   "metadata": {},
   "outputs": [],
   "source": [
    "import pandas as pd\n",
    "from datasets import Dataset\n",
    "from transformers import BertTokenizer, BertForSequenceClassification, Trainer, TrainingArguments\n",
    "import numpy as np\n",
    "import torch\n",
    "from transformers import AutoModelForSequenceClassification, AutoTokenizer\n",
    "from transformers import DataCollatorWithPadding\n",
    "import pandas as pd\n",
    "import re\n",
    "import matplotlib.pyplot as plt"
   ]
  },
  {
   "cell_type": "code",
   "execution_count": 155,
   "metadata": {},
   "outputs": [
    {
     "data": {
      "text/plain": [
       "(                 id                                       comment_text  toxic  \\\n",
       " 0  0000997932d777bf  Explanation\\nWhy the edits made under my usern...      0   \n",
       " 1  000103f0d9cfb60f  D'aww! He matches this background colour I'm s...      0   \n",
       " 2  000113f07ec002fd  Hey man, I'm really not trying to edit war. It...      0   \n",
       " 3  0001b41b1c6bb37e  \"\\nMore\\nI can't make any real suggestions on ...      0   \n",
       " 4  0001d958c54c6e35  You, sir, are my hero. Any chance you remember...      0   \n",
       " \n",
       "    severe_toxic  obscene  threat  insult  identity_hate  \n",
       " 0             0        0       0       0              0  \n",
       " 1             0        0       0       0              0  \n",
       " 2             0        0       0       0              0  \n",
       " 3             0        0       0       0              0  \n",
       " 4             0        0       0       0              0  ,\n",
       "                  id                                       comment_text\n",
       " 0  00001cee341fdb12  Yo bitch Ja Rule is more succesful then you'll...\n",
       " 1  0000247867823ef7  == From RfC == \\n\\n The title is fine as it is...\n",
       " 2  00013b17ad220c46  \" \\n\\n == Sources == \\n\\n * Zawe Ashton on Lap...\n",
       " 3  00017563c3f7919a  :If you have a look back at the source, the in...\n",
       " 4  00017695ad8997eb          I don't anonymously edit articles at all.,\n",
       "                  id  toxic  severe_toxic  obscene  threat  insult  \\\n",
       " 0  00001cee341fdb12     -1            -1       -1      -1      -1   \n",
       " 1  0000247867823ef7     -1            -1       -1      -1      -1   \n",
       " 2  00013b17ad220c46     -1            -1       -1      -1      -1   \n",
       " 3  00017563c3f7919a     -1            -1       -1      -1      -1   \n",
       " 4  00017695ad8997eb     -1            -1       -1      -1      -1   \n",
       " \n",
       "    identity_hate  \n",
       " 0             -1  \n",
       " 1             -1  \n",
       " 2             -1  \n",
       " 3             -1  \n",
       " 4             -1  )"
      ]
     },
     "execution_count": 155,
     "metadata": {},
     "output_type": "execute_result"
    }
   ],
   "source": [
    "\n",
    "# Paths to the uploaded files\n",
    "train_file_path = './train.csv'\n",
    "test_file_path = './test.csv'\n",
    "test_labels_file_path = './test_labels.csv'\n",
    "\n",
    "# Loading the datasets\n",
    "train_df = pd.read_csv(train_file_path)\n",
    "test_df = pd.read_csv(test_file_path)\n",
    "test_labels_df = pd.read_csv(test_labels_file_path)\n",
    "\n",
    "# Displaying the first few rows of each dataset to understand their structure\n",
    "train_df_head = train_df.head()\n",
    "test_df_head = test_df.head()\n",
    "test_labels_df_head = test_labels_df.head()\n",
    "\n",
    "(train_df_head, test_df_head, test_labels_df_head)\n"
   ]
  },
  {
   "cell_type": "code",
   "execution_count": null,
   "metadata": {},
   "outputs": [],
   "source": [
    "\n",
    "# Combining the test data with its labels\n",
    "combined_test_df = test_df.merge(test_labels_df, on='id')\n",
    "\n",
    "\n",
    "\n",
    "# Dropping rows in the combined test data where the labels are -1 (not used for scoring)\n",
    "combined_test_df_cleaned = combined_test_df[(combined_test_df[['toxic', 'severe_toxic', 'obscene', 'threat', 'insult', 'identity_hate']] != -1).all(axis=1)]\n",
    "\n",
    "# Preprocessing function to clean comment text\n",
    "def preprocess_text(text):\n",
    "    # Convert to lowercase\n",
    "    text = text.lower()\n",
    "    # Remove special characters and numbers\n",
    "    text = re.sub(r'\\W', ' ', text)\n",
    "    # Replace multiple spaces with a single space\n",
    "    text = re.sub(r'\\s+', ' ', text)\n",
    "    return text\n",
    "\n",
    "# Applying the preprocessing to comment texts in both train and test data\n",
    "train_df['comment_text'] = train_df['comment_text'].apply(preprocess_text)\n",
    "combined_test_df_cleaned['comment_text'] = combined_test_df_cleaned['comment_text'].apply(preprocess_text)\n",
    "\n",
    "\n",
    "# Creating a new column \"Toxic\" which will be 1 if any of the specified columns has a 1, otherwise 0\n",
    "toxic_categories = ['toxic', 'severe_toxic', 'obscene', 'threat', 'insult', 'identity_hate']\n",
    "train_df['Toxic'] = train_df[toxic_categories].max(axis=1)\n",
    "combined_test_df_cleaned['Toxic'] = combined_test_df_cleaned[toxic_categories].max(axis=1)\n",
    "\n",
    "# Dropping the original toxic categories columns\n",
    "train_df.drop(columns=toxic_categories, inplace=True)\n",
    "combined_test_df_cleaned.drop(columns=toxic_categories, inplace=True)\n",
    "\n",
    "data = pd.concat([train_df, combined_test_df_cleaned], ignore_index=True)\n",
    "\n",
    "# Saving the preprocessed datasets back to CSV files\n",
    "data.to_csv('./cleaned_data.csv', index=False)\n",
    "\n",
    "\n",
    "# Return the paths to the saved files\n",
    "cleaned_data = './cleaned_data.csv'"
   ]
  },
  {
   "cell_type": "markdown",
   "metadata": {},
   "source": [
    "\n",
    "---\n",
    "\n",
    "# Exploratory Dara Analysis\n",
    "\n",
    "## Visualizing the Class Distribution\n",
    "\n",
    "Understanding the distribution of classes in our dataset is crucial before proceeding with model training. This step helps us to identify any class imbalances that could impact the performance of our model and may necessitate special handling or rebalancing techniques.\n",
    "\n",
    "\n",
    "\n"
   ]
  },
  {
   "cell_type": "code",
   "execution_count": 157,
   "metadata": {},
   "outputs": [
    {
     "data": {
      "image/png": "[encoded data removed]",
      "text/plain": [
       "<Figure size 800x500 with 1 Axes>"
      ]
     },
     "metadata": {},
     "output_type": "display_data"
    }
   ],
   "source": [
    "\n",
    "\n",
    "# Counting the number of toxic and non-toxic comments\n",
    "data1 = data['Toxic'].value_counts()\n",
    "\n",
    "# Plotting\n",
    "plt.figure(figsize=(8, 5))\n",
    "data1.plot(kind='bar')\n",
    "plt.title('Distribution of Toxic vs Non-Toxic Comments')\n",
    "plt.xlabel('Toxicity')\n",
    "plt.ylabel('Number of Comments')\n",
    "plt.xticks(ticks=[0, 1], labels=['Non-Toxic', 'Toxic'], rotation=0)\n",
    "plt.grid(axis='y')\n",
    "\n",
    "plt.show()\n",
    "\n",
    "\n"
   ]
  },
  {
   "cell_type": "markdown",
   "metadata": {},
   "source": [
    "### Result Interpretation\n",
    "\n",
    "The resulting bar chart clearly shows a significant class imbalance with a much larger number of non-toxic comments compared to toxic comments. This imbalance is a common issue in datasets dealing with toxic behavior, as such behavior is typically less frequent than non-toxic behavior. \n",
    "\n",
    "\n",
    "It is evident from the visualization that our model will need to address this imbalance, as it can lead to biased predictions towards the majority class. In the subsequent sections, we will explore techniques to mitigate this imbalance, such as resampling the dataset or applying class weights during the training process.\n",
    "\n",
    "In this step, you have addressed the class imbalance problem identified earlier by undersampling the majority class. This involves reducing the number of non-toxic comments in the dataset to match the number of toxic comments. Let's explain this process and the result in the context of your report.\n",
    "\n",
    "---\n",
    "\n",
    "# Addressing Class Imbalance\n",
    "\n",
    "## Implementing Undersampling\n",
    "\n",
    "Class imbalance can lead to a biased model that overwhelmingly predicts the majority class. To mitigate this, we have applied an undersampling technique to our dataset.\n",
    "\n"
   ]
  },
  {
   "cell_type": "code",
   "execution_count": 158,
   "metadata": {},
   "outputs": [],
   "source": [
    "# Undersampling the majority class (non-toxic comments)\n",
    "df_toxic = data[data['Toxic'] == 1]\n",
    "df_non_toxic = data[data['Toxic'] == 0]\n",
    "\n",
    "# # Randomly sampling non-toxic comments to match the number of toxic comments\n",
    "df_non_toxic_undersampled = df_non_toxic.sample(n=len(df_toxic), random_state=123)\n",
    "# # Combining the undersampled non-toxic comments with the toxic comments\n",
    "balanced_data_undersampled = pd.concat([df_non_toxic_undersampled, df_toxic])\n",
    "\n",
    "# # Checking the balance in the new undersampled dataset\n",
    "balanced_undersampled_count = balanced_data_undersampled['Toxic'].value_counts()\n",
    "balanced_undersampled_count_percentage = balanced_data_undersampled['Toxic'].value_counts(normalize=True) * 100\n",
    "\n",
    "balanced_undersampled_count, balanced_undersampled_count_percentage\n",
    "\n",
    "balanced_data_undersampled.to_csv(\"balanced_data.csv\")"
   ]
  },
  {
   "cell_type": "markdown",
   "metadata": {},
   "source": [
    "\n",
    "- The code creates two subsets: `df_toxic` containing toxic comments and `df_non_toxic` containing non-toxic comments.\n",
    "- It then performs undersampling on the non-toxic comments to match the count of toxic comments using `sample()`.\n",
    "- The two subsets are then concatenated to form a new balanced dataset.\n",
    "- The balance of the new dataset is checked using `value_counts()`, and the distribution is saved as a percentage as well.\n",
    "- Finally, the balanced dataset is saved to a CSV file for future use.\n",
    "\n",
    "### Visualization of the Balanced Data\n",
    "\n",
    "After undersampling, we visualize the new distribution to confirm that the dataset is now balanced.\n",
    "\n",
    "\n"
   ]
  },
  {
   "cell_type": "code",
   "execution_count": 159,
   "metadata": {},
   "outputs": [
    {
     "data": {
      "image/png": "[encoded data removed]",
      "text/plain": [
       "<Figure size 800x500 with 1 Axes>"
      ]
     },
     "metadata": {},
     "output_type": "display_data"
    }
   ],
   "source": [
    "# Counting the number of toxic and non-toxic comments\n",
    "balanced_data_undersampled1 = balanced_data_undersampled['Toxic'].value_counts()\n",
    "\n",
    "# Plotting\n",
    "plt.figure(figsize=(8, 5))\n",
    "balanced_data_undersampled1.plot(kind='bar')\n",
    "plt.title('Distribution of Toxic vs Non-Toxic Comments')\n",
    "plt.xlabel('Toxicity')\n",
    "plt.ylabel('Number of Comments')\n",
    "plt.xticks(ticks=[0, 1], labels=['Non-Toxic', 'Toxic'], rotation=0)\n",
    "plt.grid(axis='y')\n",
    "\n",
    "plt.show()\n",
    "\n"
   ]
  },
  {
   "cell_type": "markdown",
   "metadata": {},
   "source": [
    "\n",
    "- The updated plot now shows an equal number of toxic and non-toxic comments, which is essential for training a fair and unbiased model.\n",
    "\n",
    "\n",
    "\n",
    "### Result Interpretation\n",
    "\n",
    "The balanced dataset now has an equal number of comments for both classes, eliminating the previous class imbalance. This is a critical step in ensuring that our model learns to identify toxic comments effectively without bias towards the more frequent non-toxic comments.\n",
    "\n"
   ]
  },
  {
   "cell_type": "markdown",
   "metadata": {},
   "source": [
    "\n",
    "---\n",
    "\n",
    "# Preparing Data for Model Training\n",
    "\n",
    "## Data Transformation and Tokenization\n",
    "\n",
    "The next critical phase is preparing our text data for input into the NLP model. This involves tokenization, which is the process of converting text into a format that can be understood by our machine learning algorithms.\n",
    "\n",
    "\n"
   ]
  },
  {
   "cell_type": "code",
   "execution_count": 183,
   "metadata": {},
   "outputs": [],
   "source": [
    "# Renaming the 'Toxic' column to 'labels' in the dataframe\n",
    "balanced_data_undersampled = balanced_data_undersampled.rename(columns={'Toxic': 'labels'})\n",
    "\n",
    "# Converting the pandas DataFrame to a Hugging Face 'Dataset' object\n",
    "dataset = Dataset.from_pandas(balanced_data_undersampled)\n",
    "\n",
    "# Specifying the name of the pretrained model to be used\n",
    "pretrained_model = 'microsoft/Multilingual-MiniLM-L12-H384'\n",
    "\n",
    "# Initializing the tokenizer for the specified pretrained model\n",
    "tokenizer = AutoTokenizer.from_pretrained(pretrained_model, use_fast=True)\n",
    "\n",
    "# Define a tokenization function that will be applied to the text data\n",
    "def tokenize_function(examples):\n",
    "    return tokenizer(examples[\"comment_text\"], padding=\"max_length\", truncation=True)\n",
    "\n",
    "# Applying the tokenization function to the entire dataset in a batched manner\n",
    "tok_ds = dataset.map(tokenize_function, batched=True)\n",
    "\n",
    "\n",
    "data_collator = DataCollatorWithPadding(tokenizer=tokenizer, padding='max_length')\n"
   ]
  },
  {
   "cell_type": "markdown",
   "metadata": {},
   "source": [
    "### Result Interpretation\n",
    "\n",
    "With the dataset now tokenized and converted into a format suitable for the transformer model, we have completed the preprocessing stage. Each comment text is now represented by a sequence of tokens that the model can work with. The use of a pre-trained tokenizer ensures that our tokens are consistent with those used in the pre-trained language model, which will be fine-tuned on our task.\n",
    "\n",
    "This step is crucial because the quality and format of the input data directly impact the model's ability to learn and make accurate predictions.\n",
    "\n",
    "---\n"
   ]
  },
  {
   "cell_type": "markdown",
   "metadata": {},
   "source": [
    "\n",
    "\n",
    "# Dataset Splitting and Metric Selection\n",
    "\n",
    "## Train-Test Split\n",
    "\n",
    "To effectively train and validate our model, we need to split our dataset into a training set and a validation (or test) set. This allows us to train our model on one subset of the data and then test its performance on a separate subset that it has never seen before.\n",
    "\n",
    "\n",
    "- We use the `train_test_split` method from the `datasets` library to split our tokenized dataset, allocating 70% for training and 30% for validation.\n",
    "- We then extract the training and test datasets from the resulting `DatasetDict` object.\n",
    "\n"
   ]
  },
  {
   "cell_type": "code",
   "execution_count": 166,
   "metadata": {},
   "outputs": [],
   "source": [
    "# Split the dataset into train and valid sets (here we use 70/30 split)\n",
    "dataset = tok_ds.train_test_split(test_size=0.3)\n",
    "\n",
    "tok_train_dataset = dataset[\"train\"]\n",
    "tok_test_dataset = dataset[\"test\"]\n"
   ]
  },
  {
   "cell_type": "markdown",
   "metadata": {},
   "source": [
    "### Metric Selection\n",
    "\n",
    "We will also set up an evaluation metric to assess the performance of our model. Accuracy is a common metric for classification tasks, which measures the proportion of true results among the total number of cases examined.\n",
    "\n"
   ]
  },
  {
   "cell_type": "code",
   "execution_count": null,
   "metadata": {},
   "outputs": [],
   "source": [
    "\n",
    "import evaluate\n",
    "accuracy = evaluate.load(\"accuracy\")\n",
    "\n"
   ]
  },
  {
   "cell_type": "markdown",
   "metadata": {},
   "source": [
    "\n",
    "\n",
    "- The `evaluate` library is used to load the accuracy metric, which will be utilized later to evaluate the model's predictions against the true labels.\n"
   ]
  },
  {
   "cell_type": "code",
   "execution_count": null,
   "metadata": {},
   "outputs": [],
   "source": [
    "dataset"
   ]
  },
  {
   "cell_type": "markdown",
   "metadata": {},
   "source": [
    "\n",
    "### Result Interpretation\n",
    "\n",
    "By splitting our dataset and preparing our evaluation metric, we have laid the groundwork for an effective training and validation process. Our training set will be used to teach the model to recognize patterns indicative of toxic or non-toxic comments, and our validation set will help us gauge the model's ability to generalize to new data.\n",
    "\n",
    "---\n",
    "\n"
   ]
  },
  {
   "cell_type": "markdown",
   "metadata": {},
   "source": [
    "\n",
    "# Model Configuration for Sequence Classification\n",
    "\n",
    "## Setting Up the Classification Model\n",
    "\n",
    "Now that our data is ready, the next step is to configure the classification model. We will be using a pre-trained transformer model from Hugging Face's model hub, which we will fine-tune for our specific task of toxicity classification.\n",
    "\n"
   ]
  },
  {
   "cell_type": "code",
   "execution_count": 182,
   "metadata": {},
   "outputs": [
    {
     "name": "stderr",
     "output_type": "stream",
     "text": [
      "Some weights of BertForSequenceClassification were not initialized from the model checkpoint at microsoft/Multilingual-MiniLM-L12-H384 and are newly initialized: ['classifier.weight', 'classifier.bias']\n",
      "You should probably TRAIN this model on a down-stream task to be able to use it for predictions and inference.\n"
     ]
    }
   ],
   "source": [
    "id2label = {0: 'Not toxic', 1: 'Toxic'}\n",
    "label2id = {'Not toxic': 0, 'Toxic': 1}\n",
    "\n",
    "model = AutoModelForSequenceClassification.from_pretrained(\n",
    "    pretrained_model,\n",
    "    num_labels=2,  # Set to 2 for binary classification\n",
    "    id2label=id2label,\n",
    "    label2id=label2id,\n",
    "    output_attentions=True,\n",
    "  \n",
    ")"
   ]
  },
  {
   "cell_type": "markdown",
   "metadata": {},
   "source": [
    "\n",
    "\n",
    "- `id2label` and `label2id` are dictionaries that map the numerical labels to their corresponding textual representation and vice versa. This is helpful for understanding the model's predictions.\n",
    "- `AutoModelForSequenceClassification.from_pretrained` is a method to load a pre-trained model. Here, we specify the `pretrained_model` that we've selected earlier.\n",
    "- `num_labels=2` configures the model for binary classification (our classes are 'Toxic' and 'Not toxic').\n",
    "- `output_attentions=True` enables the model to return the attention weights, which can be analyzed to understand how the model is making its decisions.\n",
    "\n",
    "### Result Interpretation\n",
    "\n",
    "By setting up `AutoModelForSequenceClassification` with our specific parameters, we have a model that is ready to be fine-tuned on our dataset. The attention mechanism will be particularly useful for interpreting the model's behavior, which can provide insights into which parts of the text are most influential in determining toxicity.\n",
    "\n",
    "---\n"
   ]
  },
  {
   "cell_type": "markdown",
   "metadata": {},
   "source": [
    "\n",
    "\n",
    "# Model Training and Evaluation\n",
    "\n",
    "## Defining the Compute Metrics Function\n",
    "\n",
    "To evaluate our model, we will define a function that computes the accuracy of our predictions during the validation phase.\n",
    "\n",
    "\n",
    "\n",
    "\n"
   ]
  },
  {
   "cell_type": "code",
   "execution_count": 170,
   "metadata": {},
   "outputs": [],
   "source": [
    "def compute_metrics(eval_pred):\n",
    "    predictions, labels = eval_pred\n",
    "    predictions = np.argmax(predictions, axis=1)\n",
    "    return accuracy.compute(predictions=predictions, references=labels)"
   ]
  },
  {
   "cell_type": "markdown",
   "metadata": {},
   "source": [
    "\n",
    "- The `compute_metrics` function is designed to be passed to the `Trainer` class.\n",
    "- It takes a tuple of predictions and labels, computes the most likely prediction using `np.argmax`, and then calculates the accuracy based on those predictions.\n",
    "\n",
    "## Setting Training Arguments\n",
    "\n",
    "Training arguments define how our model should be trained. These include the learning rate, scheduler type, number of epochs, and other training parameters.\n",
    "\n"
   ]
  },
  {
   "cell_type": "code",
   "execution_count": 178,
   "metadata": {},
   "outputs": [],
   "source": [
    "# Define some training arguments\n",
    "from transformers import TrainingArguments\n",
    "\n",
    "training_args = TrainingArguments(\n",
    "    output_dir=\"./results\",\n",
    "    learning_rate=2e-5,\n",
    "    warmup_ratio=0.1,\n",
    "    lr_scheduler_type=\"cosine\",\n",
    "    fp16=True,\n",
    "    num_train_epochs=2,\n",
    "    weight_decay=0.01,\n",
    "    \n",
    " \n",
    ")\n"
   ]
  },
  {
   "cell_type": "markdown",
   "metadata": {},
   "source": [
    "\n",
    "- `output_dir`: Specifies the directory where the training results and model checkpoints will be saved.\n",
    "- `learning_rate`: Sets the initial learning rate for training.\n",
    "- `warmup_ratio`: Defines the proportion of training to perform linear learning rate warmup for.\n",
    "- `lr_scheduler_type`: Specifies the learning rate scheduler.\n",
    "- `fp16`: Indicates if we want to use mixed precision training.\n",
    "- `num_train_epochs`: The number of times to iterate over the training set.\n",
    "- `weight_decay`: This is a regularization parameter to prevent overfitting.\n",
    "\n",
    "## Initializing the Trainer\n",
    "\n",
    "With the training arguments set, we initialize the `Trainer` class.\n",
    "\n",
    "\n"
   ]
  },
  {
   "cell_type": "code",
   "execution_count": null,
   "metadata": {},
   "outputs": [],
   "source": [
    "\n",
    "\n",
    "# Now, create the trainer with the updated datasets\n",
    "trainer = Trainer(\n",
    "    model=model,\n",
    "    args=training_args,\n",
    "    train_dataset=tok_train_dataset,\n",
    "    eval_dataset=tok_test_dataset,\n",
    "    tokenizer=tokenizer,\n",
    "    data_collator=data_collator,\n",
    "    compute_metrics=compute_metrics,\n",
    "\n",
    "    \n",
    "    \n",
    ")\n",
    "\n",
    "trainer.train()"
   ]
  },
  {
   "cell_type": "markdown",
   "metadata": {},
   "source": [
    "\n",
    "- We pass our model, training arguments, datasets, tokenizer, data collator, and metrics computation function to `Trainer`.\n",
    "- Calling `trainer.train()` begins the training process.\n",
    "\n",
    "### Result Interpretation\n",
    "\n",
    "This setup enables us to start the training process, where the model will learn from our balanced training data. The specified compute metrics will allow us to monitor the model's accuracy throughout training, and adjustments can be made based on these results.\n",
    "\n",
    "---\n"
   ]
  },
  {
   "cell_type": "markdown",
   "metadata": {},
   "source": [
    "\n",
    "\n",
    "# Conclusion\n",
    "\n",
    "## Summary of the Project\n",
    "\n",
    "In this project, we set out to develop an NLP model capable of distinguishing between toxic and non-toxic comments. We began by collecting and preprocessing a dataset, ensuring that it accurately represented the problem at hand and was suitable for training a machine learning model. We addressed the challenge of class imbalance through undersampling, created a balanced dataset, and then prepared our text data for the model using tokenization techniques. With the data ready, we configured a pre-trained transformer model for binary classification and fine-tuned it on our dataset.\n",
    "\n",
    "## Key Findings\n",
    "\n",
    "- The initial data exploration revealed a significant class imbalance, which we mitigated through undersampling, thus preventing model bias towards the majority class.\n",
    "- We successfully transformed the text data into a format compatible with transformer models using a robust tokenization process.\n",
    "- The model training was executed with carefully chosen parameters and a computation of accuracy metrics to evaluate performance.\n",
    "- Through the training process, we leveraged the capabilities of Hugging Face's Transformers library to streamline the model training and evaluation.\n",
    "\n",
    "\n"
   ]
  },
  {
   "cell_type": "markdown",
   "metadata": {},
   "source": [
    "\n",
    "---\n",
    "\n",
    "# Model Inference and Testing\n",
    "\n",
    "## Testing the Model with New Inputs\n",
    "\n",
    "After training and evaluating our model, it is crucial to test how it performs on unseen data. This step simulates how the model would work in a real-world environment, predicting the toxicity of comments in a live setting.\n"
   ]
  },
  {
   "cell_type": "code",
   "execution_count": null,
   "metadata": {},
   "outputs": [],
   "source": [
    "\n",
    "\n",
    "import torch\n",
    "from transformers import AutoModelForSequenceClassification, AutoTokenizer\n",
    "\n",
    "# Load the model and tokenizer\n",
    "model_path = './model'  \n",
    "model = AutoModelForSequenceClassification.from_pretrained(model_path)\n",
    "tokenizer = AutoTokenizer.from_pretrained(model_path)\n",
    "\n",
    "# Prepare the input text\n",
    "input_text = \"Input text for classification\"  # Replace with the text you want to classify\n",
    "inputs = tokenizer(input_text, padding=True, truncation=True, max_length=512, return_tensors=\"pt\")\n",
    "\n",
    "# Make a prediction\n",
    "with torch.no_grad():\n",
    "    outputs = model(**inputs)\n",
    "\n",
    "# Apply softmax to calculate probabilities\n",
    "probabilities = torch.nn.functional.softmax(outputs.logits, dim=1)\n",
    "\n",
    "# Get the predicted class\n",
    "predicted_class_index = torch.argmax(probabilities, dim=1).item()\n",
    "class_names = [\"not toxic\", \"toxic\"]  # Make sure this matches your model's training labels\n",
    "predicted_class = class_names[predicted_class_index]\n",
    "\n",
    "# Print the result\n",
    "print(f\"Input Text: {input_text}\")\n",
    "print(f\"Predicted Class: {predicted_class} (Probability: {probabilities[0][predicted_class_index]:.4f})\")\n"
   ]
  },
  {
   "cell_type": "markdown",
   "metadata": {},
   "source": [
    "\n",
    "- The code snippet provided loads the trained model and tokenizer from a specified directory.\n",
    "- It then prepares a new input text by tokenizing it in the same way as the training data.\n",
    "- The model makes a prediction, and the softmax function is applied to the output logits to obtain a probability distribution over the classes.\n",
    "- The class with the highest probability is considered the model's prediction.\n",
    "\n",
    "### Output Interpretation\n",
    "\n",
    "The model has predicted that the input text is 'toxic' with a very high probability.\n",
    "\n",
    "\n",
    "\n"
   ]
  },
  {
   "cell_type": "markdown",
   "metadata": {},
   "source": [
    "```\n",
    "Input Text: walid is retarded\n",
    "Predicted Class: toxic (Probability: 0.9999)\n",
    "```"
   ]
  },
  {
   "cell_type": "markdown",
   "metadata": {},
   "source": [
    "\n",
    "## Closing Thoughts\n",
    "\n",
    "This project exemplifies the potential of NLP to create practical solutions for pressing problems in digital communication. By leveraging advanced machine learning techniques and the power of pre-trained models, we have developed a tool that can contribute to healthier online interactions. As we continue to refine and improve upon our model, the goal remains steadfast: to foster positive and respectful discourse in online communities.\n"
   ]
  }
 ],
 "metadata": {
  "kernelspec": {
   "display_name": "Python 3",
   "language": "python",
   "name": "python3"
  },
  "language_info": {
   "codemirror_mode": {
    "name": "ipython",
    "version": 3
   },
   "file_extension": ".py",
   "mimetype": "text/x-python",
   "name": "python",
   "nbconvert_exporter": "python",
   "pygments_lexer": "ipython3",
   "version": "3.11.7"
  }
 },
 "nbformat": 4,
 "nbformat_minor": 2
}
